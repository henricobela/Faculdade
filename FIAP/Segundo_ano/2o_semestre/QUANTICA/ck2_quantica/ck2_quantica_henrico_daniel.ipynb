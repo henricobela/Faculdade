{
 "cells": [
  {
   "cell_type": "markdown",
   "metadata": {},
   "source": [
    "# Checkpoint 2 - Quântica"
   ]
  },
  {
   "cell_type": "markdown",
   "metadata": {},
   "source": [
    "---"
   ]
  },
  {
   "cell_type": "markdown",
   "metadata": {},
   "source": [
    "## Alunos\n",
    "> Henrico Nardelli Bela | Daniel Barros\n",
    "## RMs\n",
    "> RM 95985 | RM 94026\n",
    "## Turma\n",
    "> 2TIAR\n",
    "## Emails\n",
    "> henrico.developer@gmail.com / rm95985@fiap.com.br\n",
    "> daniel.f.barros@hotmail.com / rm94026@fiap.com.br"
   ]
  },
  {
   "cell_type": "markdown",
   "metadata": {},
   "source": [
    "# Algoritmo escolhido\n",
    "### Simon’s: https://learn.qiskit.org/course/ch-algorithms/simons-algorithm "
   ]
  },
  {
   "cell_type": "markdown",
   "metadata": {},
   "source": [
    "---"
   ]
  },
  {
   "cell_type": "markdown",
   "metadata": {},
   "source": [
    "# Imports"
   ]
  },
  {
   "cell_type": "code",
   "execution_count": 1,
   "metadata": {},
   "outputs": [],
   "source": [
    "# importing Qiskit\n",
    "from qiskit import IBMQ, Aer\n",
    "from qiskit.providers.ibmq import least_busy\n",
    "from qiskit import QuantumCircuit, transpile\n",
    "\n",
    "# import basic plot tools\n",
    "from qiskit.visualization import plot_histogram\n",
    "from qiskit_textbook.tools import simon_oracle"
   ]
  },
  {
   "cell_type": "markdown",
   "metadata": {},
   "source": [
    "### Explicação dos Imports\n",
    "\n",
    "    from qiskit import IBMQ \n",
    "> Aer: Isso importa as classes IBMQ e Aer do pacote Qiskit.<br>\n",
    "> IBMQ é usado para interagir com os provedores de dispositivos quânticos da IBM e Aer é um simulador quântico de alta performance.<br>\n",
    "\n",
    "    from qiskit.providers.ibmq import least_busy\n",
    "> Isso importa a função least_busy do submódulo ibmq do pacote Qiskit. Essa função é usada para encontrar o dispositivo quântico menos ocupado disponível na IBM Quantum Experience, caso você queira executar seu circuito em hardware real.<br>\n",
    "\n",
    "    from qiskit import QuantumCircuit, transpile\n",
    "> Isso importa as classes QuantumCircuit e transpile do pacote Qiskit. QuantumCircuit é usado para criar e manipular circuitos quânticos, enquanto transpile é usado para otimizar e adaptar circuitos para diferentes tipos de dispositivos quânticos ou simuladores.<br>\n",
    "\n",
    "    from qiskit.visualization import plot_histogram\n",
    "> Isso importa a função plot_histogram do submódulo visualization do pacote Qiskit. Essa função é usada para visualizar os resultados da execução de um circuito quântico em forma de histograma.<br>\n",
    "\n",
    "    from qiskit_textbook.tools import simon_oracle\n",
    "> Isso importa a função simon_oracle do pacote qiskit_textbook.tools. Esta função é usada para criar um oráculo de Simon, que é um componente importante no algoritmo de Simon."
   ]
  },
  {
   "cell_type": "markdown",
   "metadata": {},
   "source": [
    "---"
   ]
  },
  {
   "cell_type": "markdown",
   "metadata": {},
   "source": [
    "# Preparação dos Circuitos"
   ]
  },
  {
   "cell_type": "code",
   "execution_count": 2,
   "metadata": {},
   "outputs": [
    {
     "data": {
      "text/html": [
       "<pre style=\"word-wrap: normal;white-space: pre;background: #fff0;line-height: 1.1;font-family: &quot;Courier New&quot;,Courier,monospace\">     ┌───┐ ░                           ░ ┌───┐┌─┐      \n",
       "q_0: ┤ H ├─░───■───────────────────────░─┤ H ├┤M├──────\n",
       "     ├───┤ ░   │                       ░ ├───┤└╥┘┌─┐   \n",
       "q_1: ┤ H ├─░───┼────■─────────■────■───░─┤ H ├─╫─┤M├───\n",
       "     ├───┤ ░   │    │         │    │   ░ ├───┤ ║ └╥┘┌─┐\n",
       "q_2: ┤ H ├─░───┼────┼────■────┼────┼───░─┤ H ├─╫──╫─┤M├\n",
       "     └───┘ ░ ┌─┴─┐  │    │    │    │   ░ └───┘ ║  ║ └╥┘\n",
       "q_3: ──────░─┤ X ├──┼────┼────┼────┼───░───────╫──╫──╫─\n",
       "           ░ └───┘┌─┴─┐  │  ┌─┴─┐  │   ░       ║  ║  ║ \n",
       "q_4: ──────░──────┤ X ├──┼──┤ X ├──┼───░───────╫──╫──╫─\n",
       "           ░      └───┘┌─┴─┐└───┘┌─┴─┐ ░       ║  ║  ║ \n",
       "q_5: ──────░───────────┤ X ├─────┤ X ├─░───────╫──╫──╫─\n",
       "           ░           └───┘     └───┘ ░       ║  ║  ║ \n",
       "c: 3/══════════════════════════════════════════╩══╩══╩═\n",
       "                                               0  1  2 </pre>"
      ],
      "text/plain": [
       "     ┌───┐ ░                           ░ ┌───┐┌─┐      \n",
       "q_0: ┤ H ├─░───■───────────────────────░─┤ H ├┤M├──────\n",
       "     ├───┤ ░   │                       ░ ├───┤└╥┘┌─┐   \n",
       "q_1: ┤ H ├─░───┼────■─────────■────■───░─┤ H ├─╫─┤M├───\n",
       "     ├───┤ ░   │    │         │    │   ░ ├───┤ ║ └╥┘┌─┐\n",
       "q_2: ┤ H ├─░───┼────┼────■────┼────┼───░─┤ H ├─╫──╫─┤M├\n",
       "     └───┘ ░ ┌─┴─┐  │    │    │    │   ░ └───┘ ║  ║ └╥┘\n",
       "q_3: ──────░─┤ X ├──┼────┼────┼────┼───░───────╫──╫──╫─\n",
       "           ░ └───┘┌─┴─┐  │  ┌─┴─┐  │   ░       ║  ║  ║ \n",
       "q_4: ──────░──────┤ X ├──┼──┤ X ├──┼───░───────╫──╫──╫─\n",
       "           ░      └───┘┌─┴─┐└───┘┌─┴─┐ ░       ║  ║  ║ \n",
       "q_5: ──────░───────────┤ X ├─────┤ X ├─░───────╫──╫──╫─\n",
       "           ░           └───┘     └───┘ ░       ║  ║  ║ \n",
       "c: 3/══════════════════════════════════════════╩══╩══╩═\n",
       "                                               0  1  2 "
      ]
     },
     "execution_count": 2,
     "metadata": {},
     "output_type": "execute_result"
    }
   ],
   "source": [
    "b = '110'\n",
    "\n",
    "n = len(b)\n",
    "simon_circuit = QuantumCircuit(n*2, n)\n",
    "\n",
    "# Apply Hadamard gates before querying the oracle\n",
    "simon_circuit.h(range(n))    \n",
    "    \n",
    "# Apply barrier for visual separation\n",
    "simon_circuit.barrier()\n",
    "\n",
    "simon_circuit = simon_circuit.compose(simon_oracle(b))\n",
    "\n",
    "# Apply barrier for visual separation\n",
    "simon_circuit.barrier()\n",
    "\n",
    "# Apply Hadamard gates to the input register\n",
    "simon_circuit.h(range(n))\n",
    "\n",
    "# Measure qubits\n",
    "simon_circuit.measure(range(n), range(n))\n",
    "simon_circuit.draw()"
   ]
  },
  {
   "cell_type": "markdown",
   "metadata": {},
   "source": [
    "### Explicação da preparação dos circuitos\n",
    "\n",
    "    b = '110': \n",
    "\n",
    "> Isso define uma string b com o valor '110'. Esse valor é um exemplo de uma sequência binária que representa uma função secreta que o algoritmo de Simon tentará descobrir.\n",
    "\n",
    "    n = len(b): \n",
    "\n",
    "> Isso calcula o comprimento da string b, que determina o tamanho do espaço de entrada do algoritmo de Simon. Neste caso, n será igual a 3.\n",
    "\n",
    "    simon_circuit = QuantumCircuit(n*2, n): \n",
    "\n",
    "> Isso cria um objeto QuantumCircuit chamado simon_circuit com dois registros quânticos. O primeiro registro tem o dobro do tamanho de n, ou seja, 2n, enquanto o segundo registro tem tamanho n. O primeiro registro é usado para armazenar as informações da função secreta e o segundo registro é usado para armazenar a resposta do algoritmo.\n",
    "\n",
    "    simon_circuit.h(range(n)): \n",
    "\n",
    "> Isso aplica portas Hadamard (Hadamard gates) aos primeiros n qubits do circuito. Essas portas Hadamard são usadas para criar superposições nos qubits de entrada, o que é uma etapa fundamental no algoritmo de Simon.\n",
    "\n",
    "    simon_circuit.barrier(): \n",
    "\n",
    "> Isso adiciona uma barreira visual no circuito para separar visualmente as diferentes etapas do algoritmo.\n",
    "\n",
    "    simon_circuit = simon_circuit.compose(simon_oracle(b)): \n",
    "\n",
    "> Aqui, o oráculo de Simon é aplicado ao circuito. A função simon_oracle(b) cria um oráculo específico com base no valor da string b. O oráculo é então adicionado ao circuito usando compose, o que significa que o circuito atual é estendido com as operações do oráculo.\n",
    "\n",
    "    simon_circuit.barrier(): \n",
    "\n",
    "> Mais uma barreira visual é adicionada para separar as etapas do circuito.\n",
    "\n",
    "    simon_circuit.h(range(n)): \n",
    "\n",
    "> Agora, portas Hadamard são aplicadas novamente aos primeiros n qubits do circuito. Isso é feito após a consulta ao oráculo e antes da medição dos qubits de entrada.\n",
    "\n",
    "    simon_circuit.measure(range(n), range(n)): \n",
    "\n",
    "> Isso adiciona operações de medição para os primeiros n qubits do circuito, onde range(n) especifica os índices dos qubits a serem medidos. Os resultados das medições serão usados para deduzir a função secreta.\n",
    "\n",
    "    simon_circuit.draw(): \n",
    "\n",
    "> Esta linha gera uma representação visual do circuito quântico."
   ]
  },
  {
   "cell_type": "markdown",
   "metadata": {},
   "source": [
    "---"
   ]
  },
  {
   "cell_type": "markdown",
   "metadata": {},
   "source": [
    "# Gerando simulador Local"
   ]
  },
  {
   "cell_type": "code",
   "execution_count": 3,
   "metadata": {},
   "outputs": [
    {
     "data": {
      "image/png": "[encoded data removed]",
      "text/plain": [
       "<Figure size 700x500 with 1 Axes>"
      ]
     },
     "execution_count": 3,
     "metadata": {},
     "output_type": "execute_result"
    }
   ],
   "source": [
    "# use local simulator\n",
    "aer_sim = Aer.get_backend('aer_simulator')\n",
    "results = aer_sim.run(simon_circuit).result()\n",
    "counts = results.get_counts()\n",
    "plot_histogram(counts)"
   ]
  },
  {
   "cell_type": "markdown",
   "metadata": {},
   "source": [
    "### Explicand Simulador local\n",
    "\n",
    "    aer_sim = Aer.get_backend('aer_simulator'): \n",
    "> Essa linha cria um objeto chamado aer_sim, que representa um simulador quântico local. O Aer é um módulo do Qiskit que fornece acesso a vários simuladores quânticos de alto desempenho. Aer.get_backend('aer_simulator') é usado para obter uma instância do simulador quântico específico chamado \"aer_simulator\".\n",
    "\n",
    "    results = aer_sim.run(simon_circuit).result(): \n",
    "> Nesta linha, o circuito quântico simon_circuit é executado no simulador aer_sim. O método run() é chamado no objeto aer_sim, e o resultado da execução é obtido usando o método .result(). Isso significa que o simulador está processando o circuito quântico e registrando os resultados.\n",
    "\n",
    "    counts = results.get_counts(): \n",
    "> Após a execução do circuito no simulador, os resultados são obtidos usando o método get_counts(). Isso cria um objeto counts que contém as contagens das medidas feitas nos qubits de saída do circuito. As contagens representam quantas vezes cada resultado foi observado durante a execução do circuito.\n",
    "\n",
    "    plot_histogram(counts): \n",
    "> Esta linha gera um histograma (gráfico de barras) que visualiza as contagens dos resultados. O argumento counts é passado para a função plot_histogram, que cria um gráfico onde o eixo horizontal representa os resultados possíveis e o eixo vertical representa a frequência com que cada resultado ocorreu."
   ]
  },
  {
   "cell_type": "markdown",
   "metadata": {},
   "source": [
    "---"
   ]
  },
  {
   "cell_type": "markdown",
   "metadata": {},
   "source": [
    "# Calculando o produto dos resultados"
   ]
  },
  {
   "cell_type": "code",
   "execution_count": 4,
   "metadata": {},
   "outputs": [
    {
     "name": "stdout",
     "output_type": "stream",
     "text": [
      "110.001 = 0 (mod 2)\n",
      "110.110 = 0 (mod 2)\n",
      "110.111 = 0 (mod 2)\n",
      "110.000 = 0 (mod 2)\n"
     ]
    }
   ],
   "source": [
    "# Calculate the dot product of the results\n",
    "def bdotz(b, z):\n",
    "    accum = 0\n",
    "    for i in range(len(b)):\n",
    "        accum += int(b[i]) * int(z[i])\n",
    "    return (accum % 2)\n",
    "\n",
    "for z in counts:\n",
    "    print( '{}.{} = {} (mod 2)'.format(b, z, bdotz(b,z)) )"
   ]
  },
  {
   "cell_type": "markdown",
   "metadata": {},
   "source": [
    "### Explicando a função de calculo do produto dos resultados\n",
    "\n",
    "    def bdotz(b, z):: \n",
    "> Aqui, uma função chamada bdotz é definida. Esta função recebe duas sequências binárias, b e z, como argumentos. Ela será usada para calcular o produto escalar entre essas duas sequências.\n",
    "\n",
    "    accum = 0: \n",
    "> É criada uma variável accum e inicializada com o valor 0. Esta variável será usada para acumular o resultado do produto escalar.\n",
    "\n",
    "    for i in range(len(b)):: \n",
    "> Este é um loop for que itera através dos índices dos elementos nas sequências b e z. O número de iterações é determinado pelo comprimento da sequência b.\n",
    "\n",
    "    accum += int(b[i]) * int(z[i]): \n",
    "> Dentro do loop, os elementos em cada posição i das sequências b e z são convertidos para inteiros (0 ou 1) usando a função int(). Em seguida, o produto desses inteiros é calculado e adicionado ao acumulador accum.\n",
    "\n",
    "    return (accum % 2): \n",
    "> Após o loop, o resultado acumulado accum é calculado módulo 2 (% 2). Isso significa que o resultado final será 0 se for par e 1 se for ímpar.\n",
    "\n",
    "    for z in counts:: \n",
    "> Este é um loop for que itera por cada sequência binária z encontrada nos resultados counts. Cada z corresponde a uma possível saída do circuito.\n",
    "\n",
    "    print( '{}.{} = {} (mod 2)'.format(b, z, bdotz(b,z)) ): \n",
    "> Dentro do loop, a função bdotz(b,z) é chamada para calcular o produto escalar entre b e z. O resultado é impresso na tela no formato \"b.z = resultado (mod 2)\", onde b é a sequência de entrada fixa, z é a sequência binária correspondente a uma saída do circuito, e resultado é o resultado do produto escalar calculado. O cálculo é feito módulo 2 para garantir que o resultado seja 0 ou 1, refletindo se o produto escalar é par ou ímpar."
   ]
  },
  {
   "cell_type": "markdown",
   "metadata": {},
   "source": [
    "---"
   ]
  },
  {
   "cell_type": "markdown",
   "metadata": {},
   "source": [
    "# Preparação de um novo circuito\n",
    "##### Circuito este que irá para o simulador real"
   ]
  },
  {
   "cell_type": "code",
   "execution_count": 5,
   "metadata": {},
   "outputs": [
    {
     "data": {
      "text/html": [
       "<pre style=\"word-wrap: normal;white-space: pre;background: #fff0;line-height: 1.1;font-family: &quot;Courier New&quot;,Courier,monospace\">     ┌───┐                         ┌───┐┌─┐\n",
       "q_0: ┤ H ├──■─────────■─────────■──┤ H ├┤M├\n",
       "     ├───┤  │         │  ┌───┐  │  └┬─┬┘└╥┘\n",
       "q_1: ┤ H ├──┼────■────┼──┤ H ├──┼───┤M├──╫─\n",
       "     └───┘┌─┴─┐  │  ┌─┴─┐└───┘  │   └╥┘  ║ \n",
       "q_2: ─────┤ X ├──┼──┤ X ├───────┼────╫───╫─\n",
       "          └───┘┌─┴─┐└───┘     ┌─┴─┐  ║   ║ \n",
       "q_3: ──────────┤ X ├──────────┤ X ├──╫───╫─\n",
       "               └───┘          └───┘  ║   ║ \n",
       "c: 2/════════════════════════════════╩═══╩═\n",
       "                                     1   0 </pre>"
      ],
      "text/plain": [
       "     ┌───┐                         ┌───┐┌─┐\n",
       "q_0: ┤ H ├──■─────────■─────────■──┤ H ├┤M├\n",
       "     ├───┤  │         │  ┌───┐  │  └┬─┬┘└╥┘\n",
       "q_1: ┤ H ├──┼────■────┼──┤ H ├──┼───┤M├──╫─\n",
       "     └───┘┌─┴─┐  │  ┌─┴─┐└───┘  │   └╥┘  ║ \n",
       "q_2: ─────┤ X ├──┼──┤ X ├───────┼────╫───╫─\n",
       "          └───┘┌─┴─┐└───┘     ┌─┴─┐  ║   ║ \n",
       "q_3: ──────────┤ X ├──────────┤ X ├──╫───╫─\n",
       "               └───┘          └───┘  ║   ║ \n",
       "c: 2/════════════════════════════════╩═══╩═\n",
       "                                     1   0 "
      ]
     },
     "execution_count": 5,
     "metadata": {},
     "output_type": "execute_result"
    }
   ],
   "source": [
    "b = '11'\n",
    "n = len(b)\n",
    "simon_circuit_2 = QuantumCircuit(n*2, n)\n",
    "\n",
    "# Apply Hadamard gates before querying the oracle\n",
    "simon_circuit_2.h(range(n))\n",
    "\n",
    "# Query oracle\n",
    "simon_circuit_2 = simon_circuit_2.compose(simon_oracle(b))\n",
    "\n",
    "# Apply Hadamard gates to the input register\n",
    "simon_circuit_2.h(range(n))\n",
    "\n",
    "# Measure qubits\n",
    "simon_circuit_2.measure(range(n), range(n))\n",
    "simon_circuit_2.draw()"
   ]
  },
  {
   "cell_type": "markdown",
   "metadata": {},
   "source": [
    "### Explicação do novo circuito\n",
    "\n",
    "    b = '11': \n",
    "> Aqui, uma nova sequência binária b é definida com o valor '11'. Esta sequência binária servirá como a entrada para o algoritmo de Simon.\n",
    "\n",
    "    n = len(b): \n",
    "> Calcula o comprimento da sequência binária b. Neste caso, o comprimento de b é 2, então n será igual a 2.\n",
    "\n",
    "    simon_circuit_2 = QuantumCircuit(n*2, n): \n",
    "> Isso cria um novo objeto QuantumCircuit chamado simon_circuit_2 com dois registros quânticos. O primeiro registro tem o dobro do tamanho de n, ou seja, 2n, enquanto o segundo registro tem tamanho n. Assim como no código anterior, o primeiro registro é usado para armazenar as informações da função secreta e o segundo registro é usado para armazenar a resposta do algoritmo.\n",
    "\n",
    "    simon_circuit_2.h(range(n)): \n",
    "> Aplica portas Hadamard aos primeiros n qubits do circuito, criando superposições nos qubits de entrada, como no código anterior.\n",
    "\n",
    "    simon_circuit_2 = simon_circuit_2.compose(simon_oracle(b)): \n",
    "> Aqui, o oráculo de Simon é aplicado ao circuito simon_circuit_2, com base na sequência binária b. O oráculo é adicionado ao circuito usando o método compose.\n",
    "\n",
    "    simon_circuit_2.h(range(n)): \n",
    "> Aplica portas Hadamard novamente aos primeiros n qubits do circuito após a consulta ao oráculo.\n",
    "\n",
    "    simon_circuit_2.measure(range(n), range(n)): \n",
    "> Adiciona operações de medição para os primeiros n qubits do circuito, que serão usadas para obter informações sobre a função secreta.\n",
    "\n",
    "    simon_circuit_2.draw(): \n",
    "> Gera uma representação visual do circuito quântico simon_circuit_2."
   ]
  },
  {
   "cell_type": "markdown",
   "metadata": {},
   "source": [
    "---"
   ]
  },
  {
   "cell_type": "markdown",
   "metadata": {},
   "source": [
    "### A linha abaixo configura a conta que será utilizada para o uso do simulador real, através da chave de API do IBMQuantum"
   ]
  },
  {
   "cell_type": "code",
   "execution_count": null,
   "metadata": {},
   "outputs": [],
   "source": [
    "IBMQ.save_account(\n",
    "    \"9ceaaf4cdb174dcd896593d5dc7b58bc0565d8dd526e447a361c6184b830836d3a9e204d4655bc8bc53e666f78cd24c0efae336da07fef30e59da9c8bf614340\"\n",
    "    ) # Meu token do IBMQuantum"
   ]
  },
  {
   "cell_type": "markdown",
   "metadata": {},
   "source": [
    "---"
   ]
  },
  {
   "cell_type": "markdown",
   "metadata": {},
   "source": [
    "# Preparando o ambiente para o simulador real, e rodando o mesmo."
   ]
  },
  {
   "cell_type": "code",
   "execution_count": null,
   "metadata": {},
   "outputs": [],
   "source": [
    "# Load our saved IBMQ accounts and get the least busy backend device with less than or equal to 5 qubits\n",
    "IBMQ.load_account()\n",
    "provider = IBMQ.get_provider(hub='ibm-q')\n",
    "backend = least_busy(provider.backends(filters=lambda x: x.configuration().n_qubits >= n and \n",
    "                                   not x.configuration().simulator and x.status().operational==True))\n",
    "print(\"least busy backend: \", backend)\n",
    "\n",
    "# Execute and monitor the job\n",
    "from qiskit.tools.monitor import job_monitor\n",
    "shots = 1024\n",
    "transpiled_simon_circuit = transpile(simon_circuit_2, backend, optimization_level=3)\n",
    "job = backend.run(transpiled_simon_circuit)\n",
    "job_monitor(job, interval=2)"
   ]
  },
  {
   "cell_type": "markdown",
   "metadata": {},
   "source": [
    "### Explicação da preparação do simulador real\n",
    "\n",
    "    IBMQ.load_account(): \n",
    "> Esta linha carrega as credenciais da sua conta IBM Quantum Experience, que são necessárias para acessar os dispositivos quânticos da IBM. Isso permite que você envie seu circuito para execução em hardware real, se desejar.\n",
    "\n",
    "    provider = IBMQ.get_provider(hub='ibm-q'): \n",
    "> A função IBMQ.get_provider(hub='ibm-q') obtém o provedor que oferece acesso aos dispositivos quânticos da IBM. O parâmetro hub especifica o nome do hub ao qual você está conectado na IBM Quantum Experience.\n",
    "\n",
    "    backend = least_busy(provider.backends(filters=lambda x: x.configuration().n_qubits >= n and not x.configuration().simulator and x.status().operational==True)): \n",
    "> Esta linha usa a função least_busy para encontrar o dispositivo quântico menos ocupado que atende a determinados critérios:<br>\n",
    ">> x.configuration().n_qubits >= n garante que o dispositivo tenha pelo menos o número de qubits necessários para o circuito.<br>\n",
    ">> not x.configuration().simulator exclui simuladores e escolhe um dispositivo real.<br>\n",
    ">> x.status().operational==True verifica se o dispositivo está operacional.<br>\n",
    "> O dispositivo escolhido é armazenado na variável backend.\n",
    "\n",
    "    print(\"least busy backend: \", backend): \n",
    "> Isso imprime na tela o dispositivo quântico escolhido como o \"menos ocupado\" com base nos critérios definidos. Essa escolha é importante para garantir que o circuito tenha uma chance maior de ser executado com sucesso e em tempo razoável.\n",
    "\n",
    "    from qiskit.tools.monitor import job_monitor: \n",
    "> Isso importa a função job_monitor do pacote qiskit.tools.monitor. Essa função é usada para monitorar o progresso da execução do trabalho no dispositivo quântico.\n",
    "\n",
    "    shots = 1024: \n",
    "> Define o número de repetições (shots) para a medição do circuito. Neste caso, o circuito será executado 1024 vezes para coletar estatísticas sobre os resultados.\n",
    "\n",
    "    transpiled_simon_circuit = transpile(simon_circuit_2, backend, optimization_level=3): \n",
    "> O circuito simon_circuit_2 é transpilado (adaptado) para atender às características e limitações específicas do dispositivo quântico escolhido (backend). O parâmetro optimization_level=3 indica um nível de otimização mais alto durante a transpilação.\n",
    "\n",
    "    job = backend.run(transpiled_simon_circuit): \n",
    "> O trabalho (job) é criado e submetido para execução no dispositivo quântico escolhido. O circuito transpilado transpiled_simon_circuit será executado no dispositivo.\n",
    "\n",
    "    job_monitor(job, interval=2): \n",
    "> Esta linha inicia o monitoramento do trabalho usando a função job_monitor. Ela verifica o status do trabalho a cada 2 segundos (interval=2) e exibe informações sobre o progresso da execução, como o número de tarefas concluídas, o status atual, entre outros."
   ]
  },
  {
   "cell_type": "markdown",
   "metadata": {},
   "source": [
    "---"
   ]
  },
  {
   "cell_type": "markdown",
   "metadata": {},
   "source": [
    "##### Obs: O codigo rodou até aqui, pois o tempo de espera da fila do IBMQ estava muito longo, conforme a imagem abaixo!"
   ]
  },
  {
   "cell_type": "markdown",
   "metadata": {},
   "source": [
    "![alt text](job_time_henrico.png \"Tempo estimado de espera na fila para processamento\")"
   ]
  },
  {
   "cell_type": "markdown",
   "metadata": {},
   "source": [
    "---"
   ]
  },
  {
   "cell_type": "markdown",
   "metadata": {},
   "source": [
    "# Plotando os resultados"
   ]
  },
  {
   "cell_type": "code",
   "execution_count": null,
   "metadata": {},
   "outputs": [],
   "source": [
    "# Get results and plot counts\n",
    "device_counts = job.result().get_counts()\n",
    "plot_histogram(device_counts)"
   ]
  },
  {
   "cell_type": "markdown",
   "metadata": {},
   "source": [
    "---"
   ]
  },
  {
   "cell_type": "markdown",
   "metadata": {},
   "source": [
    "# Calculando novamente o produto dos resultados\n",
    "## Nesta versão do codigo, focamos em utilizar os resultados do simulador real"
   ]
  },
  {
   "cell_type": "code",
   "execution_count": null,
   "metadata": {},
   "outputs": [],
   "source": [
    "# Calculate the dot product of the results\n",
    "def bdotz(b, z):\n",
    "    accum = 0\n",
    "    for i in range(len(b)):\n",
    "        accum += int(b[i]) * int(z[i])\n",
    "    return (accum % 2)\n",
    "\n",
    "print('b = ' + b)\n",
    "for z in device_counts:\n",
    "    print( '{}.{} = {} (mod 2) ({:.1f}%)'.format(b, z, bdotz(b,z), device_counts[z]*100/shots))"
   ]
  },
  {
   "cell_type": "markdown",
   "metadata": {},
   "source": [
    "### Explicando os resultados dos produtos para o simulador real\n",
    "\n",
    "    def bdotz(b, z):: \n",
    "> Aqui, é definida uma função chamada bdotz. Ela recebe duas sequências binárias, b e z, como argumentos. Essa função é usada para calcular o produto escalar entre essas duas sequências.\n",
    "\n",
    "    accum = 0: \n",
    "> É criada uma variável accum e inicializada com o valor 0. Essa variável será usada para acumular o resultado do produto escalar.\n",
    "\n",
    "    for i in range(len(b)):: \n",
    "> Este é um loop for que itera através dos índices dos elementos nas sequências b e z. O número de iterações é determinado pelo comprimento da sequência b.\n",
    "\n",
    "    accum += int(b[i]) * int(z[i]): \n",
    "> Dentro do loop, os elementos em cada posição i das sequências b e z são convertidos para inteiros (0 ou 1) usando a função int(). Em seguida, o produto desses inteiros é calculado e adicionado ao acumulador accum.\n",
    "\n",
    "    return (accum % 2): \n",
    "> Após o loop, o resultado acumulado accum é calculado módulo 2 (% 2). Isso significa que o resultado final será 0 se for par e 1 se for ímpar.\n",
    "\n",
    "    print('b = ' + b): \n",
    "> Isso imprime na tela a sequência binária b. Essa linha informa qual é a sequência de entrada que está sendo usada para o cálculo do produto escalar.\n",
    "\n",
    "    for z in device_counts:: \n",
    "> Este é um loop for que itera por cada sequência binária z encontrada nos resultados medidos no dispositivo quântico real. Cada z corresponde a uma possível saída do circuito.\n",
    "\n",
    "    print( '{}.{} = {} (mod 2) ({:.1f}%)'.format(b, z, bdotz(b,z), device_counts[z]*100/shots)): \n",
    "> Dentro do loop, a função bdotz(b,z) é chamada para calcular o produto escalar entre b e z. O resultado é impresso na tela no formato \"b.z = resultado (mod 2) (porcentagem %)\". Nesse formato:\n",
    ">> b é a sequência de entrada fixa.<br>\n",
    ">> z é a sequência binária correspondente a uma saída do dispositivo quântico.<br>\n",
    ">> resultado é o resultado do produto escalar calculado módulo 2.<br>\n",
    ">> device_counts[z] é o número de vezes que a sequência z foi medida no dispositivo quântico real.<br>\n",
    ">> shots é o número total de repetições (shots) para a medição.<br>\n",
    ">> A porcentagem é calculada dividindo o número de ocorrências da sequência z pelo número total de repetições e multiplicando por 100 para obter a porcentagem.<br>"
   ]
  },
  {
   "cell_type": "markdown",
   "metadata": {},
   "source": [
    "---"
   ]
  },
  {
   "cell_type": "markdown",
   "metadata": {},
   "source": [
    "# Verificando as versões e informações do sistema, ambiente python e qiskit"
   ]
  },
  {
   "cell_type": "code",
   "execution_count": 7,
   "metadata": {},
   "outputs": [
    {
     "data": {
      "text/html": [
       "<h3>Version Information</h3><table><tr><th>Software</th><th>Version</th></tr><tr><td><code>qiskit</code></td><td>0.44.2</td></tr><tr><td><code>qiskit-terra</code></td><td>0.25.2</td></tr><tr><td><code>qiskit_aer</code></td><td>0.12.2</td></tr><tr><th colspan='2'>System information</th></tr><tr><td>Python version</td><td>3.10.12</td></tr><tr><td>Python compiler</td><td>GCC 11.4.0</td></tr><tr><td>Python build</td><td>main, Jun 11 2023 05:26:28</td></tr><tr><td>OS</td><td>Linux</td></tr><tr><td>CPUs</td><td>14</td></tr><tr><td>Memory (Gb)</td><td>15.300773620605469</td></tr><tr><td colspan='2'>Sun Oct 29 16:42:27 2023 -03</td></tr></table>"
      ],
      "text/plain": [
       "<IPython.core.display.HTML object>"
      ]
     },
     "metadata": {},
     "output_type": "display_data"
    }
   ],
   "source": [
    "import qiskit.tools.jupyter\n",
    "%qiskit_version_table"
   ]
  },
  {
   "cell_type": "code",
   "execution_count": null,
   "metadata": {},
   "outputs": [],
   "source": []
  },
  {
   "cell_type": "code",
   "execution_count": null,
   "metadata": {},
   "outputs": [],
   "source": []
  }
 ],
 "metadata": {
  "kernelspec": {
   "display_name": "Python 3",
   "language": "python",
   "name": "python3"
  },
  "language_info": {
   "codemirror_mode": {
    "name": "ipython",
    "version": 3
   },
   "file_extension": ".py",
   "mimetype": "text/x-python",
   "name": "python",
   "nbconvert_exporter": "python",
   "pygments_lexer": "ipython3",
   "version": "3.10.12"
  }
 },
 "nbformat": 4,
 "nbformat_minor": 2
}
