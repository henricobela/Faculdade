{
 "cells": [
  {
   "cell_type": "markdown",
   "metadata": {},
   "source": [
    "# Equipe NoName\n",
    "\n",
    "Henrico Bela - RM95985<br>\n",
    "Emilly Gabrielly - RM94437<br>\n",
    "Sara Leal - RM96302<br>\n",
    "Felype Nunes - RM96232<br>\n",
    "Daniel Faria - RM94026<br>\n",
    "\n",
    "---\n",
    "\n",
    "> Obs: Em nosso projeto da SAP, utilizamos um algoritmo de visao computacional para detectar objetos (Coca cola ou Fanta Laranja), e no mesmo utilizamos as requisições para a API do chat GPT afim de alimentar uma base de dados SAP, seja ema nova ou ja existente. \n",
    "\n",
    "> Após uma avaliação detalhada de cada algoritmo mencionado no sprint, identificamos que nenhum deles se encaixa 100% e nosso projeto, porém o algoritmo de Grover, conforme explicado abaixo, é o que mais se adequa a nossa aplicação. "
   ]
  },
  {
   "cell_type": "markdown",
   "metadata": {},
   "source": [
    "---"
   ]
  },
  {
   "cell_type": "markdown",
   "metadata": {},
   "source": [
    "#### Algoritmo selecionado: *Grover*\n",
    "\n",
    "##### Como o algoritmo de Grover pode auxiliar na aplicação do projeto SAP Horus ↴\n",
    "\n",
    "Grover's é o que tem a aplicação mais relevante para melhorar a detecção de objetos em visão computacional, embora ele não seja um modelo em si.\n",
    "\n",
    "O algoritmo de Grover é usado para acelerar buscas em conjuntos de dados não ordenados, o que pode ser útil na otimização de algoritmos de busca, como a localização de objetos em imagens. Ele pode ser aplicado para melhorar a eficiência de certas etapas de processamento em sistemas de detecção de objetos, como a correspondência de características ou a busca por objetos em grandes conjuntos de dados.\n"
   ]
  },
  {
   "cell_type": "markdown",
   "metadata": {},
   "source": [
    "---"
   ]
  },
  {
   "cell_type": "markdown",
   "metadata": {},
   "source": [
    "##### **Aplicação pratica em modelos de simulações quanticas, com explicação**\n"
   ]
  },
  {
   "cell_type": "code",
   "execution_count": null,
   "metadata": {},
   "outputs": [],
   "source": [
    "# Inicialização\n",
    "import matplotlib.pyplot as plt  # Importa a biblioteca Matplotlib para gráficos\n",
    "import numpy as np  # Importa a biblioteca NumPy para cálculos numéricos\n",
    "import math  # Importa o módulo math para funções matemáticas\n",
    "\n",
    "# Importando Qiskit\n",
    "from qiskit import IBMQ, Aer, transpile, execute  # Importa funcionalidades do Qiskit\n",
    "from qiskit import QuantumCircuit, ClassicalRegister, QuantumRegister  # Importa classes para circuitos quânticos\n",
    "from qiskit.providers.ibmq import least_busy  # Importa a função para encontrar o dispositivo quântico menos ocupado na IBM Quantum\n",
    "\n",
    "# Importando ferramentas básicas de plotagem\n",
    "from qiskit.visualization import plot_histogram  # Importa a função para plotar histogramas dos resultados\n"
   ]
  },
  {
   "cell_type": "code",
   "execution_count": null,
   "metadata": {},
   "outputs": [],
   "source": [
    "n = 2  # Define o número de qubits do circuito como 2\n",
    "grover_circuit = QuantumCircuit(n)  # Cria um circuito quântico de Grover com 2 qubits\n"
   ]
  },
  {
   "cell_type": "code",
   "execution_count": null,
   "metadata": {},
   "outputs": [],
   "source": [
    "def initialize_s(qc, qubits):\n",
    "    \"\"\"Apply a H-gate to 'qubits' in qc\"\"\"\n",
    "    for q in qubits:\n",
    "        qc.h(q)  # Aplica uma porta Hadamard (H-gate) a cada qubit na lista 'qubits' no circuito 'qc'\n",
    "    return qc  # Retorna o circuito quântico 'qc' após a aplicação das portas Hadamard\n"
   ]
  },
  {
   "cell_type": "code",
   "execution_count": null,
   "metadata": {},
   "outputs": [],
   "source": [
    "grover_circuit = initialize_s(grover_circuit, [0, 1])  # Aplica a função 'initialize_s' ao circuito 'grover_circuit' nos qubits 0 e 1\n",
    "grover_circuit.draw()  # Desenha o circuito quântico 'grover_circuit'\n"
   ]
  },
  {
   "cell_type": "code",
   "execution_count": null,
   "metadata": {},
   "outputs": [],
   "source": [
    "grover_circuit.cz(0, 1)  # Aplica uma porta de controle-Z entre os qubits 0 e 1, criando um oráculo\n",
    "grover_circuit.draw()  # Desenha o circuito quântico 'grover_circuit'\n"
   ]
  },
  {
   "cell_type": "code",
   "execution_count": null,
   "metadata": {},
   "outputs": [],
   "source": [
    "# Diffusion operator (U_s)\n",
    "grover_circuit.h([0, 1])  # Aplica portas Hadamard aos qubits 0 e 1\n",
    "grover_circuit.z([0, 1])  # Aplica portas Z aos qubits 0 e 1\n",
    "grover_circuit.cz(0, 1)  # Aplica uma porta de controle-Z entre os qubits 0 e 1\n",
    "grover_circuit.h([0, 1])  # Aplica portas Hadamard aos qubits 0 e 1\n",
    "grover_circuit.draw()  # Desenha o circuito quântico 'grover_circuit'\n"
   ]
  },
  {
   "cell_type": "code",
   "execution_count": null,
   "metadata": {},
   "outputs": [],
   "source": [
    "sv_sim = Aer.get_backend('statevector_simulator')  # Obtém o simulador de vetor de estado\n",
    "\n",
    "result = sv_sim.run(grover_circuit).result()  # Executa o circuito 'grover_circuit' no simulador e obtém o resultado\n",
    "\n",
    "statevec = result.get_statevector()  # Obtém o vetor de estado resultante da simulação\n",
    "\n",
    "from qiskit.visualization import array_to_latex  # Importa a função para exibir o vetor de estado em formato LaTeX\n",
    "\n",
    "array_to_latex(statevec, prefix=\"|\\\\psi\\\\rangle =\")  # Exibe o vetor de estado em formato LaTeX com o rótulo \"|\\\\psi\\\\rangle =\"\n"
   ]
  },
  {
   "cell_type": "code",
   "execution_count": null,
   "metadata": {},
   "outputs": [],
   "source": [
    "grover_circuit.measure_all()  # Adiciona operações de medição em todos os qubits do circuito\n",
    "\n",
    "qasm_sim = Aer.get_backend('qasm_simulator')  # Obtém o simulador de QASM\n",
    "\n",
    "result = qasm_sim.run(grover_circuit).result()  # Executa o circuito 'grover_circuit' no simulador de QASM e obtém o resultado\n",
    "\n",
    "counts = result.get_counts()  # Obtém a contagem de resultados (distribuição de probabilidades)\n",
    "\n",
    "from qiskit.visualization import plot_histogram  # Importa a função para plotar um histograma\n",
    "\n",
    "plot_histogram(counts)  # Plota o histograma das contagens de resultados\n"
   ]
  },
  {
   "cell_type": "markdown",
   "metadata": {},
   "source": [
    "# Por que utilizar este algoritmo no projeto?\n",
    "\n",
    "- É possivel utilizar o algoritmo de Grover no projeto de detecção de objetos com visao computacional, na parte de processamento de dados, onde a mesma requer muitos processamentos simultaneos, nos quais, ocorrem muita demora na resposta para o modelo, ficando assim, com mais lentidão. E com a utilização deste algoritmo, a melhora do desempenho pode ser exponencial."
   ]
  }
 ],
 "metadata": {
  "language_info": {
   "name": "python"
  }
 },
 "nbformat": 4,
 "nbformat_minor": 2
}
